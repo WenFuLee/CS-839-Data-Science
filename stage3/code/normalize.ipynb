{
 "cells": [
  {
   "cell_type": "code",
   "execution_count": 6,
   "metadata": {},
   "outputs": [],
   "source": [
    "import pandas as pd\n",
    "import os\n",
    "\n",
    "DATA_DIR = \"../data\"\n",
    "\n",
    "imdb = pd.read_csv(os.path.join(DATA_DIR, 'imdb.csv'))\n",
    "tomato = pd.read_csv(os.path.join(DATA_DIR, 'tomato.csv'))\n",
    "\n",
    "# normalizing phase\n",
    "imdb['movie_year'] = imdb['movie_year'].str.extract('(\\d+)', expand = False)\n",
    "imdb.dropna(subset=['movie_year', 'movie_director'], inplace=True)\n",
    "imdb['movie_year'] = imdb['movie_year'].astype(int)\n",
    "imdb['movie_star'].fillna(value = 'NoStar', inplace = True)\n",
    "imdb['movie_name'] = imdb['movie_name'].str.lower()\n",
    "\n",
    "tomato.dropna(subset=['movie_year', 'movie_director'], inplace=True)\n",
    "tomato['movie_year'] = tomato['movie_year'].astype(int)\n",
    "tomato['movie_star'].fillna(value = 'NoStar', inplace = True)\n",
    "tomato['movie_name'] = tomato['movie_name'].str.lower()\n",
    "\n",
    "imdb.to_csv(os.path.join(DATA_DIR, 'imdb_clean.csv'))\n",
    "tomato.to_csv(os.path.join(DATA_DIR, 'tomato_clean.csv'))"
   ]
  }
 ],
 "metadata": {
  "kernelspec": {
   "display_name": "Python 3",
   "language": "python",
   "name": "python3"
  },
  "language_info": {
   "codemirror_mode": {
    "name": "ipython",
    "version": 3
   },
   "file_extension": ".py",
   "mimetype": "text/x-python",
   "name": "python",
   "nbconvert_exporter": "python",
   "pygments_lexer": "ipython3",
   "version": "3.6.5"
  }
 },
 "nbformat": 4,
 "nbformat_minor": 2
}
