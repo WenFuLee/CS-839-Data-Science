{
 "cells": [
  {
   "cell_type": "code",
   "execution_count": 14,
   "metadata": {},
   "outputs": [
    {
     "name": "stderr",
     "output_type": "stream",
     "text": [
      "Metadata file is not present in the given path; proceeding to read the csv file.\n",
      "Metadata file is not present in the given path; proceeding to read the csv file.\n"
     ]
    }
   ],
   "source": [
    "import py_entitymatching as em\n",
    "import numpy as np\n",
    "import pandas as pd\n",
    "import os\n",
    "\n",
    "DATA_DIR = \"../data\"\n",
    "\n",
    "imdb = em.read_csv_metadata(os.path.join(DATA_DIR, 'imdb_clean.csv'), key = 'movie_no')\n",
    "tomato = em.read_csv_metadata(os.path.join(DATA_DIR, 'tomato_clean.csv'), key = 'movie_no')\n",
    "\n"
   ]
  },
  {
   "cell_type": "code",
   "execution_count": 15,
   "metadata": {},
   "outputs": [
    {
     "name": "stderr",
     "output_type": "stream",
     "text": [
      "0% [##############################] 100% | ETA: 00:00:00\n",
      "Total time elapsed: 00:00:02\n"
     ]
    }
   ],
   "source": [
    "# blocking phase\n",
    "output_attrs = ['movie_no', 'movie_name', 'movie_director', 'movie_star']\n",
    "\n",
    "# overlap blocker with movie name\n",
    "ob = em.OverlapBlocker()\n",
    "C1 = ob.block_tables(imdb, tomato, l_overlap_attr = 'movie_name',\n",
    "                    r_overlap_attr = 'movie_name', l_output_attrs = output_attrs,\n",
    "                    r_output_attrs = output_attrs)\n"
   ]
  },
  {
   "cell_type": "code",
   "execution_count": 16,
   "metadata": {},
   "outputs": [
    {
     "name": "stderr",
     "output_type": "stream",
     "text": [
      "0% [##############################] 100% | ETA: 00:00:00\n",
      "Total time elapsed: 00:00:36\n"
     ]
    }
   ],
   "source": [
    "# black box blocker with movie stars\n",
    "bb = em.BlackBoxBlocker()\n",
    "overlap_star_thres = 2\n",
    "def f_star_block(ltuple, rtuple):\n",
    "    if ltuple['movie_star'] == 'NoStar':\n",
    "        return True\n",
    "    if rtuple['movie_star'] == 'NoStar':\n",
    "        return True\n",
    "    l_star = ltuple['movie_star'].replace(',', '').split()\n",
    "    r_star = rtuple['movie_star'].replace(',', '').split()\n",
    "    overlap_star = len(set(l_star).intersection(r_star))\n",
    "    if overlap_star < overlap_star_thres:\n",
    "        return True\n",
    "    return False\n",
    "bb.set_black_box_function(f_star_block)\n",
    "C2 = bb.block_candset(C1)\n"
   ]
  },
  {
   "cell_type": "code",
   "execution_count": 9,
   "metadata": {},
   "outputs": [
    {
     "name": "stderr",
     "output_type": "stream",
     "text": [
      "0% [##############################] 100% | ETA: 00:00:00\n",
      "Total time elapsed: 00:00:01\n"
     ]
    }
   ],
   "source": [
    "# block by offset of movie year\n",
    "# if l.year = r.year +- offset\n",
    "# then it is valid\n",
    "year_offset = 2\n",
    "def f_year_block(ltuple, rtuple):\n",
    "    if (ltuple['movie_year'] <= rtuple['movie_year'] + year_offset) \\\n",
    "    and (ltuple['movie_year'] >= rtuple['movie_year'] - year_offset):\n",
    "        return False\n",
    "    return True\n",
    "bb.set_black_box_function(f_year_block)\n",
    "C3 = bb.block_candset(C2)"
   ]
  },
  {
   "cell_type": "code",
   "execution_count": 17,
   "metadata": {},
   "outputs": [
    {
     "name": "stderr",
     "output_type": "stream",
     "text": [
      "0% [##############################] 100% | ETA: 00:00:00\n",
      "Total time elapsed: 00:00:00\n"
     ]
    }
   ],
   "source": [
    "# block by cos sim of movie name\n",
    "# cos sim lower than threshold would be blocked\n",
    "cos_thres = 0.4\n",
    "def f_threshold_cos(ltuple, rtuple):\n",
    "    l_movie_name = ltuple['movie_name'].split()\n",
    "    r_movie_name = rtuple['movie_name'].split()\n",
    "    cos_sim = em.cosine(l_movie_name, r_movie_name)\n",
    "    if cos_sim < cos_thres:\n",
    "        return True\n",
    "    return False\n",
    "bb.set_black_box_function(f_threshold_cos)\n",
    "C4 = bb.block_candset(C3)"
   ]
  },
  {
   "cell_type": "code",
   "execution_count": 18,
   "metadata": {},
   "outputs": [
    {
     "name": "stderr",
     "output_type": "stream",
     "text": [
      "File already exists at ../data/block.csv; Overwriting it\n",
      "Metadata file already exists at ../data/block.metadata. Overwriting it\n"
     ]
    },
    {
     "data": {
      "text/plain": [
       "True"
      ]
     },
     "execution_count": 18,
     "metadata": {},
     "output_type": "execute_result"
    }
   ],
   "source": [
    "# saving results\n",
    "em.to_csv_metadata(C4, os.path.join(DATA_DIR, 'block.csv'))\n",
    "\n",
    "# if want to debug\n",
    "# D = em.debug_blocker(C4, imdb, tomato, output_size= 200)"
   ]
  },
  {
   "cell_type": "code",
   "execution_count": 13,
   "metadata": {},
   "outputs": [],
   "source": [
    "# if want to sample data\n",
    "# np.random.seed(7)\n",
    "# S = em.sample_data(C4, sample_size = 510)\n",
    "# em.to_csv_metadata(S, os.path.join(DATA_DIR, 'sample.csv'))"
   ]
  }
 ],
 "metadata": {
  "kernelspec": {
   "display_name": "Python 3",
   "language": "python",
   "name": "python3"
  },
  "language_info": {
   "codemirror_mode": {
    "name": "ipython",
    "version": 3
   },
   "file_extension": ".py",
   "mimetype": "text/x-python",
   "name": "python",
   "nbconvert_exporter": "python",
   "pygments_lexer": "ipython3",
   "version": "3.6.5"
  }
 },
 "nbformat": 4,
 "nbformat_minor": 2
}
