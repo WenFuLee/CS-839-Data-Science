{
 "cells": [
  {
   "cell_type": "code",
   "execution_count": 1,
   "metadata": {},
   "outputs": [
    {
     "name": "stderr",
     "output_type": "stream",
     "text": [
      "Metadata file is not present in the given path; proceeding to read the csv file.\n"
     ]
    }
   ],
   "source": [
    "import pandas as pd\n",
    "import os\n",
    "import py_entitymatching as em\n",
    "import numpy as np\n",
    "\n",
    "DATA_DIR = \"../data\"\n",
    "datasets_dir = DATA_DIR + os.sep\n",
    "\n",
    "pathA = datasets_dir + \"imdb_clean.csv\"\n",
    "pathB = datasets_dir + \"tomato_clean.csv\"\n",
    "\n",
    "A = pd.read_csv(pathA, encoding = 'utf-8')\n",
    "B = pd.read_csv(pathB, encoding = 'utf-8')\n",
    "\n",
    "# Rename first empty attr \n",
    "# df.rename(columns={\"Unnamed: 0\": \"id\"},  inplace=True)\n",
    "\n",
    "A = A[['movie_no', 'movie_name', 'movie_year', 'movie_director', 'movie_star']]\n",
    "B = B[['movie_no', 'movie_name', 'movie_year', 'movie_director', 'movie_star']]\n",
    "\n",
    "em.set_key(A, 'movie_no')\n",
    "em.set_key(B, 'movie_no')\n",
    "\n",
    "pathS = datasets_dir + \"labeled_data.csv\"\n",
    "\n",
    "S = em.read_csv_metadata(pathS, \n",
    "                         key='_id',\n",
    "                         ltable=A, rtable=B, \n",
    "                         fk_ltable='ltable_movie_no',\n",
    "                         fk_rtable='rtable_movie_no')\n",
    "                         \n",
    "\n",
    "IJ = em.split_train_test(S, train_proportion=0.7, random_state=0)\n",
    "I = IJ['train']\n",
    "J = IJ['test']"
   ]
  },
  {
   "cell_type": "code",
   "execution_count": 2,
   "metadata": {},
   "outputs": [],
   "source": [
    "# I.to_csv(\"I.csv\")\n",
    "# J.to_csv(\"J.csv\")"
   ]
  },
  {
   "cell_type": "code",
   "execution_count": 3,
   "metadata": {},
   "outputs": [],
   "source": [
    "# Classifier\n",
    "\n",
    "dt = em.DTMatcher(name='DecisionTree', random_state=0)\n",
    "svm = em.SVMMatcher(name='SVM', random_state=0)\n",
    "rf = em.RFMatcher(name='RF', random_state=0)\n",
    "lg = em.LogRegMatcher(name='LogReg', random_state=0)\n",
    "ln = em.LinRegMatcher(name='LinReg')\n",
    "nb = em.NBMatcher(name='NB')"
   ]
  },
  {
   "cell_type": "code",
   "execution_count": 4,
   "metadata": {},
   "outputs": [],
   "source": [
    "# Feature generation\n",
    "F = em.get_features_for_matching(A, B, validate_inferred_attr_types=False)\n",
    "\n",
    "H = em.extract_feature_vecs(I, \n",
    "                            feature_table=F, \n",
    "                            attrs_after='label',\n",
    "                            show_progress=False)\n",
    "\n",
    "# Missing value\n",
    "H = em.impute_table(H, \n",
    "                exclude_attrs=['_id', 'ltable_movie_no', 'rtable_movie_no', 'label'],\n",
    "                strategy='mean')"
   ]
  },
  {
   "cell_type": "code",
   "execution_count": 5,
   "metadata": {},
   "outputs": [
    {
     "name": "stderr",
     "output_type": "stream",
     "text": [
      "/usr/local/lib/python3.6/site-packages/scipy/linalg/basic.py:1226: RuntimeWarning: internal gelsd driver lwork query error, required iwork dimension not returned. This is likely the result of LAPACK bug 0038, fixed in LAPACK 3.2.2 (released July 21, 2010). Falling back to 'gelss' driver.\n",
      "  warnings.warn(mesg, RuntimeWarning)\n",
      "/usr/local/lib/python3.6/site-packages/scipy/linalg/basic.py:1226: RuntimeWarning: internal gelsd driver lwork query error, required iwork dimension not returned. This is likely the result of LAPACK bug 0038, fixed in LAPACK 3.2.2 (released July 21, 2010). Falling back to 'gelss' driver.\n",
      "  warnings.warn(mesg, RuntimeWarning)\n",
      "/usr/local/lib/python3.6/site-packages/scipy/linalg/basic.py:1226: RuntimeWarning: internal gelsd driver lwork query error, required iwork dimension not returned. This is likely the result of LAPACK bug 0038, fixed in LAPACK 3.2.2 (released July 21, 2010). Falling back to 'gelss' driver.\n",
      "  warnings.warn(mesg, RuntimeWarning)\n",
      "/usr/local/lib/python3.6/site-packages/scipy/linalg/basic.py:1226: RuntimeWarning: internal gelsd driver lwork query error, required iwork dimension not returned. This is likely the result of LAPACK bug 0038, fixed in LAPACK 3.2.2 (released July 21, 2010). Falling back to 'gelss' driver.\n",
      "  warnings.warn(mesg, RuntimeWarning)\n",
      "/usr/local/lib/python3.6/site-packages/scipy/linalg/basic.py:1226: RuntimeWarning: internal gelsd driver lwork query error, required iwork dimension not returned. This is likely the result of LAPACK bug 0038, fixed in LAPACK 3.2.2 (released July 21, 2010). Falling back to 'gelss' driver.\n",
      "  warnings.warn(mesg, RuntimeWarning)\n",
      "/usr/local/lib/python3.6/site-packages/scipy/linalg/basic.py:1226: RuntimeWarning: internal gelsd driver lwork query error, required iwork dimension not returned. This is likely the result of LAPACK bug 0038, fixed in LAPACK 3.2.2 (released July 21, 2010). Falling back to 'gelss' driver.\n",
      "  warnings.warn(mesg, RuntimeWarning)\n",
      "/usr/local/lib/python3.6/site-packages/scipy/linalg/basic.py:1226: RuntimeWarning: internal gelsd driver lwork query error, required iwork dimension not returned. This is likely the result of LAPACK bug 0038, fixed in LAPACK 3.2.2 (released July 21, 2010). Falling back to 'gelss' driver.\n",
      "  warnings.warn(mesg, RuntimeWarning)\n",
      "/usr/local/lib/python3.6/site-packages/scipy/linalg/basic.py:1226: RuntimeWarning: internal gelsd driver lwork query error, required iwork dimension not returned. This is likely the result of LAPACK bug 0038, fixed in LAPACK 3.2.2 (released July 21, 2010). Falling back to 'gelss' driver.\n",
      "  warnings.warn(mesg, RuntimeWarning)\n",
      "/usr/local/lib/python3.6/site-packages/scipy/linalg/basic.py:1226: RuntimeWarning: internal gelsd driver lwork query error, required iwork dimension not returned. This is likely the result of LAPACK bug 0038, fixed in LAPACK 3.2.2 (released July 21, 2010). Falling back to 'gelss' driver.\n",
      "  warnings.warn(mesg, RuntimeWarning)\n",
      "/usr/local/lib/python3.6/site-packages/scipy/linalg/basic.py:1226: RuntimeWarning: internal gelsd driver lwork query error, required iwork dimension not returned. This is likely the result of LAPACK bug 0038, fixed in LAPACK 3.2.2 (released July 21, 2010). Falling back to 'gelss' driver.\n",
      "  warnings.warn(mesg, RuntimeWarning)\n",
      "/usr/local/lib/python3.6/site-packages/scipy/linalg/basic.py:1226: RuntimeWarning: internal gelsd driver lwork query error, required iwork dimension not returned. This is likely the result of LAPACK bug 0038, fixed in LAPACK 3.2.2 (released July 21, 2010). Falling back to 'gelss' driver.\n",
      "  warnings.warn(mesg, RuntimeWarning)\n",
      "/usr/local/lib/python3.6/site-packages/scipy/linalg/basic.py:1226: RuntimeWarning: internal gelsd driver lwork query error, required iwork dimension not returned. This is likely the result of LAPACK bug 0038, fixed in LAPACK 3.2.2 (released July 21, 2010). Falling back to 'gelss' driver.\n",
      "  warnings.warn(mesg, RuntimeWarning)\n"
     ]
    }
   ],
   "source": [
    "# Corss Validation \n",
    "\n",
    "result = em.select_matcher([dt, rf, svm, ln, lg, nb], table=H, \n",
    "        exclude_attrs=['_id', 'ltable_movie_no', 'rtable_movie_no', 'label'],\n",
    "        k=5, # Num of fold\n",
    "        target_attr='label', metric_to_select_matcher='f1', random_state=0)"
   ]
  },
  {
   "cell_type": "code",
   "execution_count": 7,
   "metadata": {},
   "outputs": [
    {
     "data": {
      "text/html": [
       "<div>\n",
       "<style scoped>\n",
       "    .dataframe tbody tr th:only-of-type {\n",
       "        vertical-align: middle;\n",
       "    }\n",
       "\n",
       "    .dataframe tbody tr th {\n",
       "        vertical-align: top;\n",
       "    }\n",
       "\n",
       "    .dataframe thead th {\n",
       "        text-align: right;\n",
       "    }\n",
       "</style>\n",
       "<table border=\"1\" class=\"dataframe\">\n",
       "  <thead>\n",
       "    <tr style=\"text-align: right;\">\n",
       "      <th></th>\n",
       "      <th>Matcher</th>\n",
       "      <th>Average precision</th>\n",
       "      <th>Average recall</th>\n",
       "      <th>Average f1</th>\n",
       "    </tr>\n",
       "  </thead>\n",
       "  <tbody>\n",
       "    <tr>\n",
       "      <th>0</th>\n",
       "      <td>DecisionTree</td>\n",
       "      <td>0.984615</td>\n",
       "      <td>1.000000</td>\n",
       "      <td>0.992157</td>\n",
       "    </tr>\n",
       "    <tr>\n",
       "      <th>1</th>\n",
       "      <td>RF</td>\n",
       "      <td>0.984615</td>\n",
       "      <td>0.992857</td>\n",
       "      <td>0.988520</td>\n",
       "    </tr>\n",
       "    <tr>\n",
       "      <th>2</th>\n",
       "      <td>SVM</td>\n",
       "      <td>0.991667</td>\n",
       "      <td>0.896529</td>\n",
       "      <td>0.941052</td>\n",
       "    </tr>\n",
       "    <tr>\n",
       "      <th>3</th>\n",
       "      <td>LinReg</td>\n",
       "      <td>0.984615</td>\n",
       "      <td>0.977473</td>\n",
       "      <td>0.980520</td>\n",
       "    </tr>\n",
       "    <tr>\n",
       "      <th>4</th>\n",
       "      <td>LogReg</td>\n",
       "      <td>0.984615</td>\n",
       "      <td>0.992857</td>\n",
       "      <td>0.988520</td>\n",
       "    </tr>\n",
       "    <tr>\n",
       "      <th>5</th>\n",
       "      <td>NB</td>\n",
       "      <td>0.984615</td>\n",
       "      <td>0.985165</td>\n",
       "      <td>0.984599</td>\n",
       "    </tr>\n",
       "  </tbody>\n",
       "</table>\n",
       "</div>"
      ],
      "text/plain": [
       "        Matcher  Average precision  Average recall  Average f1\n",
       "0  DecisionTree           0.984615        1.000000    0.992157\n",
       "1            RF           0.984615        0.992857    0.988520\n",
       "2           SVM           0.991667        0.896529    0.941052\n",
       "3        LinReg           0.984615        0.977473    0.980520\n",
       "4        LogReg           0.984615        0.992857    0.988520\n",
       "5            NB           0.984615        0.985165    0.984599"
      ]
     },
     "execution_count": 7,
     "metadata": {},
     "output_type": "execute_result"
    }
   ],
   "source": [
    "result['cv_stats']"
   ]
  },
  {
   "cell_type": "code",
   "execution_count": 8,
   "metadata": {},
   "outputs": [
    {
     "name": "stdout",
     "output_type": "stream",
     "text": [
      "Precision : 98.18% (54/55)\n",
      "Recall : 96.43% (54/56)\n",
      "F1 : 97.3%\n",
      "False positives : 1 (out of 55 positive predictions)\n",
      "False negatives : 2 (out of 98 negative predictions)\n"
     ]
    }
   ],
   "source": [
    "# Apply to testing set\n",
    "\n",
    "dt = result['selected_matcher'] # LinReg here\n",
    "# dt = em.DTMatcher(name='DT', random_state=0)\n",
    "\n",
    "dt.fit(table=H, \n",
    "       exclude_attrs=['_id', 'ltable_movie_no', 'rtable_movie_no', 'label'], \n",
    "       target_attr='label')\n",
    "\n",
    "L = em.extract_feature_vecs(J, feature_table=F,\n",
    "                            attrs_after='label', show_progress=False)\n",
    "\n",
    "predictions = dt.predict(table=L, exclude_attrs=['_id', 'ltable_movie_no', 'rtable_movie_no', 'label'], \n",
    "              append=True, target_attr='predicted', inplace=False)\n",
    "\n",
    "# predictions[['_id', 'ltable_movie_no', 'rtable_movie_no', 'predicted', 'proba']].head()\n",
    "\n",
    "eval_result = em.eval_matches(predictions, 'label', 'predicted')\n",
    "em.print_eval_summary(eval_result)"
   ]
  },
  {
   "cell_type": "code",
   "execution_count": 9,
   "metadata": {},
   "outputs": [
    {
     "data": {
      "text/html": [
       "<div>\n",
       "<style scoped>\n",
       "    .dataframe tbody tr th:only-of-type {\n",
       "        vertical-align: middle;\n",
       "    }\n",
       "\n",
       "    .dataframe tbody tr th {\n",
       "        vertical-align: top;\n",
       "    }\n",
       "\n",
       "    .dataframe thead th {\n",
       "        text-align: right;\n",
       "    }\n",
       "</style>\n",
       "<table border=\"1\" class=\"dataframe\">\n",
       "  <thead>\n",
       "    <tr style=\"text-align: right;\">\n",
       "      <th></th>\n",
       "      <th>Unnamed: 0</th>\n",
       "      <th>_id</th>\n",
       "      <th>ltable_movie_no</th>\n",
       "      <th>rtable_movie_no</th>\n",
       "      <th>ltable_movie_name</th>\n",
       "      <th>ltable_movie_year</th>\n",
       "      <th>ltable_movie_director</th>\n",
       "      <th>ltable_movie_star</th>\n",
       "      <th>rtable_movie_name</th>\n",
       "      <th>rtable_movie_year</th>\n",
       "      <th>rtable_movie_director</th>\n",
       "      <th>rtable_movie_star</th>\n",
       "      <th>label</th>\n",
       "    </tr>\n",
       "  </thead>\n",
       "  <tbody>\n",
       "    <tr>\n",
       "      <th>144</th>\n",
       "      <td>144</td>\n",
       "      <td>203430</td>\n",
       "      <td>1008</td>\n",
       "      <td>774</td>\n",
       "      <td>the hunger games: mockingjay - part 1</td>\n",
       "      <td>2014</td>\n",
       "      <td>Francis Lawrence</td>\n",
       "      <td>Jennifer Lawrence, Josh Hutcherson, Liam Hemsworth, Woody Harrelson</td>\n",
       "      <td>the hunger games: mockingjay - part 2</td>\n",
       "      <td>2015</td>\n",
       "      <td>Francis Lawrence</td>\n",
       "      <td>Jennifer Lawrence, Josh Hutcherson, Liam Hemsworth, Julianne Moore, Gwendoline Christie, Robert ...</td>\n",
       "      <td>0</td>\n",
       "    </tr>\n",
       "  </tbody>\n",
       "</table>\n",
       "</div>"
      ],
      "text/plain": [
       "     Unnamed: 0     _id  ltable_movie_no  rtable_movie_no  \\\n",
       "144         144  203430             1008              774   \n",
       "\n",
       "                         ltable_movie_name  ltable_movie_year  \\\n",
       "144  the hunger games: mockingjay - part 1               2014   \n",
       "\n",
       "    ltable_movie_director  \\\n",
       "144      Francis Lawrence   \n",
       "\n",
       "                                                       ltable_movie_star  \\\n",
       "144  Jennifer Lawrence, Josh Hutcherson, Liam Hemsworth, Woody Harrelson   \n",
       "\n",
       "                         rtable_movie_name  rtable_movie_year  \\\n",
       "144  the hunger games: mockingjay - part 2               2015   \n",
       "\n",
       "    rtable_movie_director  \\\n",
       "144      Francis Lawrence   \n",
       "\n",
       "                                                                                       rtable_movie_star  \\\n",
       "144  Jennifer Lawrence, Josh Hutcherson, Liam Hemsworth, Julianne Moore, Gwendoline Christie, Robert ...   \n",
       "\n",
       "     label  \n",
       "144      0  "
      ]
     },
     "execution_count": 9,
     "metadata": {},
     "output_type": "execute_result"
    }
   ],
   "source": [
    "# False Positivies\n",
    "\n",
    "fn = predictions[ (predictions['predicted'] == 1) & (predictions['label'] == 0)]\n",
    "S[S['_id'].isin(fn['_id'])]"
   ]
  },
  {
   "cell_type": "code",
   "execution_count": 10,
   "metadata": {
    "scrolled": true
   },
   "outputs": [
    {
     "name": "stdout",
     "output_type": "stream",
     "text": [
      "-----  %s -----  DecisionTree\n",
      "Precision : 98.18% (54/55)\n",
      "Recall : 96.43% (54/56)\n",
      "F1 : 97.3%\n",
      "False positives : 1 (out of 55 positive predictions)\n",
      "False negatives : 2 (out of 98 negative predictions)\n",
      "\n",
      "-----  %s -----  RF\n",
      "Precision : 96.36% (53/55)\n",
      "Recall : 94.64% (53/56)\n",
      "F1 : 95.5%\n",
      "False positives : 2 (out of 55 positive predictions)\n",
      "False negatives : 3 (out of 98 negative predictions)\n",
      "\n",
      "-----  %s -----  SVM\n",
      "Precision : 98.0% (49/50)\n",
      "Recall : 87.5% (49/56)\n",
      "F1 : 92.45%\n",
      "False positives : 1 (out of 50 positive predictions)\n",
      "False negatives : 7 (out of 103 negative predictions)\n",
      "\n",
      "-----  %s -----  LinReg\n"
     ]
    },
    {
     "name": "stderr",
     "output_type": "stream",
     "text": [
      "/usr/local/lib/python3.6/site-packages/scipy/linalg/basic.py:1226: RuntimeWarning: internal gelsd driver lwork query error, required iwork dimension not returned. This is likely the result of LAPACK bug 0038, fixed in LAPACK 3.2.2 (released July 21, 2010). Falling back to 'gelss' driver.\n",
      "  warnings.warn(mesg, RuntimeWarning)\n"
     ]
    },
    {
     "name": "stdout",
     "output_type": "stream",
     "text": [
      "Precision : 98.18% (54/55)\n",
      "Recall : 96.43% (54/56)\n",
      "F1 : 97.3%\n",
      "False positives : 1 (out of 55 positive predictions)\n",
      "False negatives : 2 (out of 98 negative predictions)\n",
      "\n",
      "-----  %s -----  LogReg\n",
      "Precision : 96.49% (55/57)\n",
      "Recall : 98.21% (55/56)\n",
      "F1 : 97.35%\n",
      "False positives : 2 (out of 57 positive predictions)\n",
      "False negatives : 1 (out of 96 negative predictions)\n",
      "\n",
      "-----  %s -----  NB\n",
      "Precision : 96.49% (55/57)\n",
      "Recall : 98.21% (55/56)\n",
      "F1 : 97.35%\n",
      "False positives : 2 (out of 57 positive predictions)\n",
      "False negatives : 1 (out of 96 negative predictions)\n",
      "\n"
     ]
    }
   ],
   "source": [
    "# 6 learning-based applied on testing set\n",
    "\n",
    "classifiers = result['drill_down_cv_stats']['precision'][['Name','Matcher']]\n",
    "\n",
    "for index, row in classifiers.iterrows():\n",
    "    print(\"-----  %s ----- \", row['Name'])\n",
    "    \n",
    "    cl = row['Matcher']\n",
    "    cl.fit(table=H, \n",
    "        exclude_attrs=['_id', 'ltable_movie_no', 'rtable_movie_no', 'label'], \n",
    "        target_attr='label')\n",
    "    \n",
    "    L = em.extract_feature_vecs(J, feature_table=F,\n",
    "                            attrs_after='label', show_progress=False)\n",
    "\n",
    "    predictions = cl.predict(table=L, exclude_attrs=['_id', 'ltable_movie_no', 'rtable_movie_no', 'label'], \n",
    "              append=True, target_attr='predicted', inplace=False)\n",
    "\n",
    "    eval_result = em.eval_matches(predictions, 'label', 'predicted')\n",
    "    em.print_eval_summary(eval_result)\n",
    "    print(\"\")"
   ]
  },
  {
   "cell_type": "code",
   "execution_count": null,
   "metadata": {},
   "outputs": [],
   "source": []
  }
 ],
 "metadata": {
  "kernelspec": {
   "display_name": "Python 3",
   "language": "python",
   "name": "python3"
  },
  "language_info": {
   "codemirror_mode": {
    "name": "ipython",
    "version": 3
   },
   "file_extension": ".py",
   "mimetype": "text/x-python",
   "name": "python",
   "nbconvert_exporter": "python",
   "pygments_lexer": "ipython3",
   "version": "3.6.5"
  }
 },
 "nbformat": 4,
 "nbformat_minor": 2
}
