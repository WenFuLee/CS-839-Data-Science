{
 "cells": [
  {
   "cell_type": "code",
   "execution_count": 2,
   "metadata": {},
   "outputs": [
    {
     "name": "stderr",
     "output_type": "stream",
     "text": [
      "No handlers could be found for logger \"py_entitymatching.io.parsers\"\n"
     ]
    }
   ],
   "source": [
    "import pandas as pd\n",
    "import os\n",
    "import py_entitymatching as em\n",
    "import numpy as np\n",
    "\n",
    "datasets_dir = os.getcwd() + os.sep\n",
    "\n",
    "pathA = datasets_dir + \"imdb.csv\"\n",
    "pathB = datasets_dir + \"tomato.csv\"\n",
    "\n",
    "A = pd.read_csv(pathA)\n",
    "B = pd.read_csv(pathB)\n",
    "\n",
    "# Rename first empty \n",
    "# df.rename(columns={\"Unnamed: 0\": \"id\"},  inplace=True)\n",
    "\n",
    "A = A[['movie_no', 'movie_name', 'movie_year', 'movie_director', 'movie_star']]\n",
    "B = B[['movie_no', 'movie_name', 'movie_year', 'movie_director', 'movie_star']]\n",
    "\n",
    "em.set_key(A, 'movie_no')\n",
    "em.set_key(B, 'movie_no')\n",
    "\n",
    "pathS = datasets_dir + \"labeled_data.csv\"\n",
    "\n",
    "S = em.read_csv_metadata(pathS, \n",
    "                         key='_id',\n",
    "                         ltable=A, rtable=B, \n",
    "                         fk_ltable='ltable_movie_no', fk_rtable='rtable_movie_no')\n",
    "\n",
    "# S.rename(columns={\"Unnamed: 12\": \"label\"},  inplace=True)\n",
    "\n",
    "IJ = em.split_train_test(S, train_proportion=0.7, random_state=0)\n",
    "I = IJ['train']\n",
    "J = IJ['test']"
   ]
  },
  {
   "cell_type": "code",
   "execution_count": 3,
   "metadata": {
    "collapsed": true
   },
   "outputs": [],
   "source": [
    "dt = em.DTMatcher(name='DecisionTree', random_state=0)\n",
    "svm = em.SVMMatcher(name='SVM', random_state=0)\n",
    "rf = em.RFMatcher(name='RF', random_state=0)\n",
    "lg = em.LogRegMatcher(name='LogReg', random_state=0)\n",
    "ln = em.LinRegMatcher(name='LinReg')\n",
    "nb = em.NBMatcher(name='NB')"
   ]
  },
  {
   "cell_type": "code",
   "execution_count": 4,
   "metadata": {
    "collapsed": true
   },
   "outputs": [],
   "source": [
    "F = em.get_features_for_matching(A, B, validate_inferred_attr_types=False)"
   ]
  },
  {
   "cell_type": "code",
   "execution_count": 5,
   "metadata": {
    "collapsed": true
   },
   "outputs": [],
   "source": [
    "# F.feature_name"
   ]
  },
  {
   "cell_type": "code",
   "execution_count": 6,
   "metadata": {
    "collapsed": true
   },
   "outputs": [],
   "source": [
    "H = em.extract_feature_vecs(I, \n",
    "                            feature_table=F, \n",
    "                            attrs_after='label',\n",
    "                            show_progress=False)"
   ]
  },
  {
   "cell_type": "code",
   "execution_count": 7,
   "metadata": {
    "collapsed": true
   },
   "outputs": [],
   "source": [
    "H = em.impute_table(H, \n",
    "                exclude_attrs=['_id', 'ltable_movie_no', 'rtable_movie_no', 'label'],\n",
    "                strategy='mean')"
   ]
  },
  {
   "cell_type": "code",
   "execution_count": 8,
   "metadata": {
    "collapsed": true
   },
   "outputs": [],
   "source": [
    "result = em.select_matcher([dt, rf, svm, ln, lg, nb], table=H, \n",
    "        exclude_attrs=['_id', 'ltable_movie_no', 'rtable_movie_no', 'label'],\n",
    "        k=5,\n",
    "        target_attr='label', metric_to_select_matcher='f1', random_state=0)\n"
   ]
  },
  {
   "cell_type": "code",
   "execution_count": 9,
   "metadata": {},
   "outputs": [
    {
     "data": {
      "text/html": [
       "<div>\n",
       "<style scoped>\n",
       "    .dataframe tbody tr th:only-of-type {\n",
       "        vertical-align: middle;\n",
       "    }\n",
       "\n",
       "    .dataframe tbody tr th {\n",
       "        vertical-align: top;\n",
       "    }\n",
       "\n",
       "    .dataframe thead th {\n",
       "        text-align: right;\n",
       "    }\n",
       "</style>\n",
       "<table border=\"1\" class=\"dataframe\">\n",
       "  <thead>\n",
       "    <tr style=\"text-align: right;\">\n",
       "      <th></th>\n",
       "      <th>Matcher</th>\n",
       "      <th>Average precision</th>\n",
       "      <th>Average recall</th>\n",
       "      <th>Average f1</th>\n",
       "    </tr>\n",
       "  </thead>\n",
       "  <tbody>\n",
       "    <tr>\n",
       "      <th>0</th>\n",
       "      <td>DecisionTree</td>\n",
       "      <td>0.975920</td>\n",
       "      <td>0.962637</td>\n",
       "      <td>0.968060</td>\n",
       "    </tr>\n",
       "    <tr>\n",
       "      <th>1</th>\n",
       "      <td>RF</td>\n",
       "      <td>0.975612</td>\n",
       "      <td>0.992000</td>\n",
       "      <td>0.983634</td>\n",
       "    </tr>\n",
       "    <tr>\n",
       "      <th>2</th>\n",
       "      <td>SVM</td>\n",
       "      <td>0.991667</td>\n",
       "      <td>0.896529</td>\n",
       "      <td>0.941052</td>\n",
       "    </tr>\n",
       "    <tr>\n",
       "      <th>3</th>\n",
       "      <td>LinReg</td>\n",
       "      <td>0.984615</td>\n",
       "      <td>1.000000</td>\n",
       "      <td>0.992157</td>\n",
       "    </tr>\n",
       "    <tr>\n",
       "      <th>4</th>\n",
       "      <td>LogReg</td>\n",
       "      <td>0.984615</td>\n",
       "      <td>0.985714</td>\n",
       "      <td>0.984749</td>\n",
       "    </tr>\n",
       "    <tr>\n",
       "      <th>5</th>\n",
       "      <td>NB</td>\n",
       "      <td>0.984615</td>\n",
       "      <td>0.992308</td>\n",
       "      <td>0.988235</td>\n",
       "    </tr>\n",
       "  </tbody>\n",
       "</table>\n",
       "</div>"
      ],
      "text/plain": [
       "        Matcher  Average precision  Average recall  Average f1\n",
       "0  DecisionTree           0.975920        0.962637    0.968060\n",
       "1            RF           0.975612        0.992000    0.983634\n",
       "2           SVM           0.991667        0.896529    0.941052\n",
       "3        LinReg           0.984615        1.000000    0.992157\n",
       "4        LogReg           0.984615        0.985714    0.984749\n",
       "5            NB           0.984615        0.992308    0.988235"
      ]
     },
     "execution_count": 9,
     "metadata": {},
     "output_type": "execute_result"
    }
   ],
   "source": [
    "result['cv_stats']"
   ]
  },
  {
   "cell_type": "code",
   "execution_count": 11,
   "metadata": {},
   "outputs": [
    {
     "name": "stdout",
     "output_type": "stream",
     "text": [
      "Precision : 96.49% (55/57)\n",
      "Recall : 98.21% (55/56)\n",
      "F1 : 97.35%\n",
      "False positives : 2 (out of 57 positive predictions)\n",
      "False negatives : 1 (out of 96 negative predictions)\n"
     ]
    }
   ],
   "source": [
    "dt = result['selected_matcher']\n",
    "# dt = em.DTMatcher(name='DT', random_state=0)\n",
    "\n",
    "dt.fit(table=H, \n",
    "       exclude_attrs=['_id', 'ltable_movie_no', 'rtable_movie_no', 'label'], \n",
    "       target_attr='label')\n",
    "\n",
    "L = em.extract_feature_vecs(J, feature_table=F,\n",
    "                            attrs_after='label', show_progress=False)\n",
    "\n",
    "predictions = dt.predict(table=L, exclude_attrs=['_id', 'ltable_movie_no', 'rtable_movie_no', 'label'], \n",
    "              append=True, target_attr='predicted', inplace=False, return_probs=True,\n",
    "                        probs_attr='proba')\n",
    "\n",
    "predictions[['_id', 'ltable_movie_no', 'rtable_movie_no', 'predicted', 'proba']].head()\n",
    "\n",
    "eval_result = em.eval_matches(predictions, 'label', 'predicted')\n",
    "em.print_eval_summary(eval_result)"
   ]
  },
  {
   "cell_type": "code",
   "execution_count": 14,
   "metadata": {
    "collapsed": true
   },
   "outputs": [],
   "source": [
    "# False Positivies\n",
    "fn = predictions[ (predictions['predicted'] == 1) & (predictions['label'] == 0)]"
   ]
  },
  {
   "cell_type": "code",
   "execution_count": 13,
   "metadata": {},
   "outputs": [
    {
     "data": {
      "text/html": [
       "<div>\n",
       "<style scoped>\n",
       "    .dataframe tbody tr th:only-of-type {\n",
       "        vertical-align: middle;\n",
       "    }\n",
       "\n",
       "    .dataframe tbody tr th {\n",
       "        vertical-align: top;\n",
       "    }\n",
       "\n",
       "    .dataframe thead th {\n",
       "        text-align: right;\n",
       "    }\n",
       "</style>\n",
       "<table border=\"1\" class=\"dataframe\">\n",
       "  <thead>\n",
       "    <tr style=\"text-align: right;\">\n",
       "      <th></th>\n",
       "      <th>Unnamed: 0</th>\n",
       "      <th>_id</th>\n",
       "      <th>ltable_movie_no</th>\n",
       "      <th>rtable_movie_no</th>\n",
       "      <th>ltable_movie_name</th>\n",
       "      <th>ltable_movie_year</th>\n",
       "      <th>ltable_movie_director</th>\n",
       "      <th>ltable_movie_star</th>\n",
       "      <th>rtable_movie_name</th>\n",
       "      <th>rtable_movie_year</th>\n",
       "      <th>rtable_movie_director</th>\n",
       "      <th>rtable_movie_star</th>\n",
       "      <th>label</th>\n",
       "    </tr>\n",
       "  </thead>\n",
       "  <tbody>\n",
       "    <tr>\n",
       "      <th>144</th>\n",
       "      <td>144</td>\n",
       "      <td>203430</td>\n",
       "      <td>1008</td>\n",
       "      <td>774</td>\n",
       "      <td>the hunger games: mockingjay - part 1</td>\n",
       "      <td>2014</td>\n",
       "      <td>Francis Lawrence</td>\n",
       "      <td>Jennifer Lawrence, Josh Hutcherson, Liam Hemsworth, Woody Harrelson</td>\n",
       "      <td>the hunger games: mockingjay - part 2</td>\n",
       "      <td>2015</td>\n",
       "      <td>Francis Lawrence</td>\n",
       "      <td>Jennifer Lawrence, Josh Hutcherson, Liam Hemsworth, Julianne Moore, Gwendoline Christie, Robert ...</td>\n",
       "      <td>0</td>\n",
       "    </tr>\n",
       "    <tr>\n",
       "      <th>400</th>\n",
       "      <td>400</td>\n",
       "      <td>610699</td>\n",
       "      <td>1476</td>\n",
       "      <td>2378</td>\n",
       "      <td>the purge: election year</td>\n",
       "      <td>2016</td>\n",
       "      <td>James DeMonaco</td>\n",
       "      <td>Frank Grillo, Elizabeth Mitchell, Mykelti Williamson, Joseph Julian Soria</td>\n",
       "      <td>the purge: anarchy</td>\n",
       "      <td>2014</td>\n",
       "      <td>James DeMonaco</td>\n",
       "      <td>Frank Grillo, Carmen Ejogo, Zach Gilford, Kiele Sanchez, Michael Kenneth Williams, Zoe Soul, Jus...</td>\n",
       "      <td>0</td>\n",
       "    </tr>\n",
       "  </tbody>\n",
       "</table>\n",
       "</div>"
      ],
      "text/plain": [
       "     Unnamed: 0     _id  ltable_movie_no  rtable_movie_no  \\\n",
       "144         144  203430             1008              774   \n",
       "400         400  610699             1476             2378   \n",
       "\n",
       "                         ltable_movie_name  ltable_movie_year  \\\n",
       "144  the hunger games: mockingjay - part 1               2014   \n",
       "400               the purge: election year               2016   \n",
       "\n",
       "    ltable_movie_director  \\\n",
       "144      Francis Lawrence   \n",
       "400        James DeMonaco   \n",
       "\n",
       "                                                             ltable_movie_star  \\\n",
       "144        Jennifer Lawrence, Josh Hutcherson, Liam Hemsworth, Woody Harrelson   \n",
       "400  Frank Grillo, Elizabeth Mitchell, Mykelti Williamson, Joseph Julian Soria   \n",
       "\n",
       "                         rtable_movie_name  rtable_movie_year  \\\n",
       "144  the hunger games: mockingjay - part 2               2015   \n",
       "400                     the purge: anarchy               2014   \n",
       "\n",
       "    rtable_movie_director  \\\n",
       "144      Francis Lawrence   \n",
       "400        James DeMonaco   \n",
       "\n",
       "                                                                                       rtable_movie_star  \\\n",
       "144  Jennifer Lawrence, Josh Hutcherson, Liam Hemsworth, Julianne Moore, Gwendoline Christie, Robert ...   \n",
       "400  Frank Grillo, Carmen Ejogo, Zach Gilford, Kiele Sanchez, Michael Kenneth Williams, Zoe Soul, Jus...   \n",
       "\n",
       "     label  \n",
       "144      0  \n",
       "400      0  "
      ]
     },
     "execution_count": 13,
     "metadata": {},
     "output_type": "execute_result"
    }
   ],
   "source": [
    "S[S['_id'].isin(fn['_id'])]"
   ]
  },
  {
   "cell_type": "code",
   "execution_count": null,
   "metadata": {
    "collapsed": true
   },
   "outputs": [],
   "source": []
  }
 ],
 "metadata": {
  "kernelspec": {
   "display_name": "Python 2",
   "language": "python",
   "name": "python2"
  },
  "language_info": {
   "codemirror_mode": {
    "name": "ipython",
    "version": 2
   },
   "file_extension": ".py",
   "mimetype": "text/x-python",
   "name": "python",
   "nbconvert_exporter": "python",
   "pygments_lexer": "ipython2",
   "version": "2.7.14"
  }
 },
 "nbformat": 4,
 "nbformat_minor": 2
}
